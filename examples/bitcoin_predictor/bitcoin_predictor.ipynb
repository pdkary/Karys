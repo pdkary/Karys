{
 "cells": [
  {
   "cell_type": "code",
   "execution_count": null,
   "metadata": {},
   "outputs": [],
   "source": [
    "!pip install -r requirements --quiet\n",
    "\n",
    "import os\n",
    "import sys\n",
    "module_path = os.path.abspath(os.path.join('../..'))\n",
    "if module_path not in sys.path:\n",
    "    sys.path.append(module_path)"
   ]
  },
  {
   "cell_type": "markdown",
   "metadata": {},
   "source": [
    "### Data Setup\n",
    "\n",
    "The goal here is to take some bitcoin data, and predict the next few points of data\n",
    "\n",
    "The input were going to use is\n",
    "- H consecutive points of bitcoin pricing data, \n",
    "- with C columns (ie: open, close, high, low, volume)\n",
    "- and I indicators (columns calculated from others, ie: Bollinger Bands, MA, EMA, etc)\n",
    "\n",
    "with total shape (H,C+I), or (B,H,C+I) if were doing batches of suze B\n",
    "\n",
    "the output is then going to be a set of L output points\n",
    "- L (lookahead) meaning we want to predict L points into the future,\n",
    "- C (columns)  (ie: open, close, high, low, volume)\n",
    "- I: indicators (optional) (it is useful to predict these if we want to propogate the model off its own output)\n",
    "\n",
    "so total output of (L,C+I?) or (B,L,C+I?) if batches"
   ]
  },
  {
   "cell_type": "code",
   "execution_count": null,
   "metadata": {},
   "outputs": [],
   "source": [
    "from data.CsvDataConfig import CalculatedColumnConfig, CsvDataConfig\n",
    "from data.wrappers.CsvDataWrapper import CsvDataWrapper\n",
    "from legitindicators import bollinger_bands_pb, rma,voss, linreg_curve\n",
    "\n",
    "data_columns = [\"Open\",\"Close\",\"Number of Trades\"]\n",
    "\n",
    "indicators = [\n",
    "    CalculatedColumnConfig(\"Voss\",voss,[\"Close\"],dict(period=20, predict=3, bandwidth=.25)),\n",
    "    CalculatedColumnConfig(\"Bollinger\",bollinger_bands_pb,[\"Close\"],dict(length=25,stdd=3)),\n",
    "    CalculatedColumnConfig(\"Linear Regression Curve\",linreg_curve,[\"Close\"],dict(length=25)),\n",
    "]\n",
    "\n",
    "data_config = CsvDataConfig(data_columns,indicators,horizon=30,lookahead=2,batch_size=5,num_batches=20, predict_calculated=True)\n",
    "train_data = CsvDataWrapper.load_from_file('test_input/bitcoin_jan_2022_1h.csv',index_name='Open Time',indicators=indicators)\n",
    "test_data = CsvDataWrapper.load_from_file('test_input/bitcoin_feb_2022_1h.csv',index_name='Open Time',indicators=indicators)"
   ]
  },
  {
   "cell_type": "markdown",
   "metadata": {},
   "source": [
    "This provides data with shapes\n",
    "input shape: (5,30,6)\n",
    "output shape:(5,2,6) \n",
    "\n",
    "### Now to build the Model"
   ]
  },
  {
   "cell_type": "code",
   "execution_count": null,
   "metadata": {},
   "outputs": [],
   "source": [
    "from models.CsvModel import CsvModel\n",
    "from tensorflow.keras.layers import Dense, LeakyReLU\n",
    "from tensorflow.keras.optimizers import Adam\n",
    "from tensorflow.keras.losses import MSE\n",
    "\n",
    "a = 0.08\n",
    "layers = [Dense(200),LeakyReLU(a),Dense(200),LeakyReLU(a),Dense(200),LeakyReLU(a),Dense(100),LeakyReLU(a),Dense(50),LeakyReLU(a)]\n",
    "optimizer = Adam(learning_rate=5e-4)\n",
    "loss = MSE\n",
    "csv_model = CsvModel(data_config.input_shape, data_config.output_shape, layers, optimizer, loss)\n",
    "csv_model.build()\n",
    "csv_model.set_dataconfig(data_config)\n",
    "csv_model.set_test_datawrapper(test_data)\n",
    "csv_model.set_train_datawrapper(train_data)"
   ]
  },
  {
   "cell_type": "markdown",
   "metadata": {},
   "source": [
    "### And now we train!"
   ]
  },
  {
   "cell_type": "code",
   "execution_count": null,
   "metadata": {},
   "outputs": [],
   "source": [
    "epochs=2000\n",
    "trains_per_test=20\n",
    "\n",
    "from plotting.TrainPlotter import TrainPlotter\n",
    "from plotting import TestPlotter\n",
    "\n",
    "train_columns = [\"Train \" + x + \" Loss\" for x in data_columns]\n",
    "loss_plot = TrainPlotter(moving_average_size=trains_per_test*4,labels=[*train_columns,\"Test Loss\"])\n",
    "\n",
    "test_loss = 0\n",
    "for i in range(epochs):\n",
    "    loss_plot.start_epoch()\n",
    "    train_loss = csv_model.train()\n",
    "\n",
    "    if i % trains_per_test == 0 and i != 0:\n",
    "        test_result = csv_model.test()\n",
    "        test_loss = test_result.loss\n",
    "        TestPlotter.plot_test_result('test_output/bitcoin_test.png', test_result)\n",
    "        TestPlotter.propgate_and_plot('test_output/propogate_test.png', csv_model, train_data, data_config, 24)\n",
    "\n",
    "    loss_plot.batch_update([*train_loss[data_columns].sum(),test_loss])\n",
    "    loss_plot.log_epoch()"
   ]
  }
 ],
 "metadata": {
  "interpreter": {
   "hash": "63fd5069d213b44bf678585dea6b12cceca9941eaf7f819626cde1f2670de90d"
  },
  "kernelspec": {
   "display_name": "Python 3.9.4 64-bit",
   "language": "python",
   "name": "python3"
  },
  "language_info": {
   "codemirror_mode": {
    "name": "ipython",
    "version": 3
   },
   "file_extension": ".py",
   "mimetype": "text/x-python",
   "name": "python",
   "nbconvert_exporter": "python",
   "pygments_lexer": "ipython3",
   "version": "3.9.4"
  },
  "orig_nbformat": 4
 },
 "nbformat": 4,
 "nbformat_minor": 2
}
